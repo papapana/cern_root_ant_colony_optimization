{
 "cells": [
  {
   "cell_type": "markdown",
   "metadata": {},
   "source": [
    "# Introduction\n",
    "\n",
    "In this document we are going to show how to develop an Ant Colony Optimization algorithm for solving the TSP using the data analysis software package by CERN, ROOT. The interface is in python to keep things simple but the logic is in C++."
   ]
  },
  {
   "cell_type": "code",
   "execution_count": 1,
   "metadata": {
    "collapsed": false
   },
   "outputs": [
    {
     "data": {
      "application/javascript": [
       "require(['codemirror/mode/clike/clike'], function(Clike) { console.log('ROOTaaS - C++ CodeMirror module loaded'); });"
      ]
     },
     "metadata": {},
     "output_type": "display_data"
    },
    {
     "data": {
      "application/javascript": [
       "IPython.CodeCell.config_defaults.highlight_modes['magic_text/x-c++src'] = {'reg':[/^%%cpp/]};"
      ]
     },
     "metadata": {},
     "output_type": "display_data"
    },
    {
     "name": "stdout",
     "output_type": "stream",
     "text": [
      "Welcome to ROOTaaS 6.06/00\n"
     ]
    }
   ],
   "source": [
    "from __future__ import division\n",
    "\n",
    "import ROOT\n",
    "\n",
    "distgraph = [\n",
    "    [0,5,20,5],\n",
    "    [5,0,5,2],\n",
    "    [20,5,0,7],\n",
    "    [5,2,7,0]\n",
    "]\n",
    "\n",
    "from ROOT import std\n",
    "\n",
    "dg = std.vector('std::vector<double>')()\n",
    "\n",
    "def vector2d_from_list(lst):\n",
    "    ret = std.vector('std::vector<double>')()\n",
    "    for row in distgraph:\n",
    "        temp = std.vector('double')()\n",
    "        for col in row:\n",
    "            temp.push_back(col)\n",
    "        ret.push_back(temp);\n",
    "    return(ret)\n",
    "        "
   ]
  },
  {
   "cell_type": "code",
   "execution_count": 2,
   "metadata": {
    "collapsed": false
   },
   "outputs": [
    {
     "name": "stderr",
     "output_type": "stream",
     "text": [
      "IncrementalExecutor::executeFunction: symbol '_ZN7TTabCom4HookEPcPiRNSt3__113basic_ostreamIcNS2_11char_traitsIcEEEE' unresolved while linking [cling interface function]!\r\n",
      "You are probably missing the definition of TTabCom::Hook(char*, int*, std::__1::basic_ostream<char, std::__1::char_traits<char> >&)\r\n",
      "Maybe you need to load the corresponding shared library?\r\n",
      "IncrementalExecutor::executeFunction: symbol '_ZN7TTabComC1Ev' unresolved while linking [cling interface function]!\r\n",
      "You are probably missing the definition of TTabCom::TTabCom()\r\n",
      "Maybe you need to load the corresponding shared library?\r\n"
     ]
    }
   ],
   "source": [
    "%%cpp\n",
    "cout << \"hello\" << endl;"
   ]
  },
  {
   "cell_type": "code",
   "execution_count": 3,
   "metadata": {
    "collapsed": false
   },
   "outputs": [],
   "source": [
    "\n",
    "%%cpp -d\n",
    "void print_vector2d(const std::vector<std::vector<double> >& v)\n",
    "        {\n",
    "            for (const auto& row:v){\n",
    "                for (const auto& col:row) {\n",
    "                    std::cout << col << \" \";\n",
    "                }\n",
    "                std::cout << endl;\n",
    "            }\n",
    "        }"
   ]
  },
  {
   "cell_type": "code",
   "execution_count": 4,
   "metadata": {
    "collapsed": false
   },
   "outputs": [
    {
     "name": "stdout",
     "output_type": "stream",
     "text": [
      "0 5 20 5 \r\n",
      "5 0 5 2 \r\n",
      "20 5 0 7 \r\n",
      "5 2 7 0 \r\n"
     ]
    }
   ],
   "source": [
    "ROOT.print_vector2d(vector2d_from_list(distgraph))"
   ]
  },
  {
   "cell_type": "code",
   "execution_count": 5,
   "metadata": {
    "collapsed": false
   },
   "outputs": [],
   "source": [
    "init_pherom = 1/len(distgraph)"
   ]
  },
  {
   "cell_type": "code",
   "execution_count": 6,
   "metadata": {
    "collapsed": false
   },
   "outputs": [],
   "source": [
    "pheromones = [\n",
    "    [(init_pherom if x!=y else 0.0) for x in range(len(distgraph))] \n",
    "              for y in range(len(distgraph))\n",
    "]"
   ]
  },
  {
   "cell_type": "code",
   "execution_count": 7,
   "metadata": {
    "collapsed": false
   },
   "outputs": [
    {
     "data": {
      "text/plain": [
       "[[0.0, 0.25, 0.25, 0.25],\n",
       " [0.25, 0.0, 0.25, 0.25],\n",
       " [0.25, 0.25, 0.0, 0.25],\n",
       " [0.25, 0.25, 0.25, 0.0]]"
      ]
     },
     "execution_count": 7,
     "metadata": {},
     "output_type": "execute_result"
    }
   ],
   "source": [
    "pheromones"
   ]
  },
  {
   "cell_type": "code",
   "execution_count": 8,
   "metadata": {
    "collapsed": false
   },
   "outputs": [
    {
     "name": "stdout",
     "output_type": "stream",
     "text": [
      "0 5 20 5 \r\n",
      "5 0 5 2 \r\n",
      "20 5 0 7 \r\n",
      "5 2 7 0 \r\n"
     ]
    }
   ],
   "source": [
    "ROOT.print_vector2d(vector2d_from_list(pheromones))"
   ]
  },
  {
   "cell_type": "code",
   "execution_count": 9,
   "metadata": {
    "collapsed": false
   },
   "outputs": [
    {
     "name": "stdout",
     "output_type": "stream",
     "text": [
      "0 5 20 5 \r\n",
      "5 0 5 2 \r\n",
      "20 5 0 7 \r\n",
      "5 2 7 0 \r\n"
     ]
    }
   ],
   "source": [
    "ROOT.print_vector2d(vector2d_from_list(distgraph))"
   ]
  },
  {
   "cell_type": "code",
   "execution_count": 10,
   "metadata": {
    "collapsed": false
   },
   "outputs": [
    {
     "data": {
      "text/plain": [
       "[[0.0, 0.25, 0.25, 0.25],\n",
       " [0.25, 0.0, 0.25, 0.25],\n",
       " [0.25, 0.25, 0.0, 0.25],\n",
       " [0.25, 0.25, 0.25, 0.0]]"
      ]
     },
     "execution_count": 10,
     "metadata": {},
     "output_type": "execute_result"
    }
   ],
   "source": [
    "pheromones\n"
   ]
  },
  {
   "cell_type": "markdown",
   "metadata": {},
   "source": [
    "Each ant selects the arc to follow with the following probability $$p_{ij}=\\frac{\\eta_{ij}^\\alpha \\tau_{ij}^\\beta}{\\sum\\limits_{k}\\eta_{ij}^\\alpha \\tau_{ij}^\\beta}$$\n",
    "Here we define the settings as a list with [$\\alpha$, $\\beta$, $\\rho$, QVAL]"
   ]
  },
  {
   "cell_type": "code",
   "execution_count": 11,
   "metadata": {
    "collapsed": false
   },
   "outputs": [],
   "source": [
    "\n",
    "%%cpp -d\n",
    "#include <vector>\n",
    "\n",
    "#include <cmath>\n",
    "#include <random>\n",
    "#include <cassert>\n",
    "class Ant {\n",
    "    int initCity;\n",
    "    std::vector<std::vector<double> >* pheromones;\n",
    "    std::vector<std::vector<double> >* dist;\n",
    "    std::vector<unsigned char> visited{};\n",
    "\n",
    "public:\n",
    "    std::vector<double> settings{1.0, 5.0, 0.5, 100};\n",
    "    double tourLength;\n",
    "    std::vector<int> builtPath{};\n",
    "\n",
    "    int getInitCity() const\n",
    "    {\n",
    "        return initCity;\n",
    "    }\n",
    "\n",
    "    void setInitCity(int initCity)\n",
    "    {\n",
    "        Ant::initCity = initCity;\n",
    "    }\n",
    "\n",
    "    Ant(int city, std::vector<std::vector<double> >* pherom, std::vector<std::vector<double> >* distgraph)\n",
    "            :initCity(city), pheromones(pherom), dist(distgraph)\n",
    "    {\n",
    "        visited.resize(dist->size());\n",
    "        visited[city] = 1;\n",
    "    }\n",
    "\n",
    "    double prob(int from, int to)\n",
    "    {\n",
    "        double nom = (std::pow(1/(*dist)[from][to], settings[0])*std::pow((*pheromones)[from][to], settings[1]));\n",
    "        double denom = 0.0;\n",
    "        for (int i = 0; i<visited.size(); ++i) {\n",
    "            if (visited[i]==0) {\n",
    "                denom += (std::pow(1/(*dist)[from][i], settings[0])*std::pow((*pheromones)[from][i], settings[1]));\n",
    "            }\n",
    "        }\n",
    "        if (denom>0.00001) {\n",
    "            return nom/denom;\n",
    "        }\n",
    "        else {\n",
    "            return 1.0;\n",
    "        }\n",
    "    }\n",
    "\n",
    "    double run()\n",
    "    {\n",
    "        int visitNum = 0;\n",
    "        int size = dist->size();\n",
    "        int curCity = initCity;\n",
    "        std::random_device rand;\n",
    "        double tourLen = 0.0;\n",
    "        visited.clear();\n",
    "        visited.resize(size);\n",
    "        visited[curCity] = 1;\n",
    "        builtPath.clear();\n",
    "        builtPath.resize(size);\n",
    "        builtPath[visitNum] = curCity;\n",
    "        while (visitNum<(size-1)) {\n",
    "\n",
    "            double probNum;\n",
    "            double visitProb;\n",
    "            int index;\n",
    "\n",
    "            index = curCity;\n",
    "            do {\n",
    "                ++index;\n",
    "                if (index>=size) {\n",
    "                    index = 0;\n",
    "                }\n",
    "                if (visited[index]) {\n",
    "                    visitProb = 0;\n",
    "                }\n",
    "                else {\n",
    "                    visitProb = prob(curCity, index);\n",
    "                }\n",
    "                probNum = static_cast<double>(rand())/rand.max();\n",
    "            }\n",
    "            while (probNum>visitProb);\n",
    "            tourLen += (*dist)[curCity][index];\n",
    "            curCity = index;\n",
    "            visited[index] = 1;\n",
    "            visitNum++;\n",
    "            builtPath[visitNum] = curCity;\n",
    "        }\n",
    "        tourLen += (*dist)[curCity][initCity];\n",
    "        tourLength = tourLen;\n",
    "        return tourLen;\n",
    "    }\n",
    "\n",
    "};"
   ]
  },
  {
   "cell_type": "code",
   "execution_count": 12,
   "metadata": {
    "collapsed": false
   },
   "outputs": [
    {
     "data": {
      "text/plain": [
       "ROOT.Ant"
      ]
     },
     "execution_count": 12,
     "metadata": {},
     "output_type": "execute_result"
    }
   ],
   "source": [
    "ROOT.Ant"
   ]
  },
  {
   "cell_type": "code",
   "execution_count": 13,
   "metadata": {
    "collapsed": false
   },
   "outputs": [],
   "source": [
    "\n",
    "%%cpp -d\n",
    "class ACO {\n",
    "private:\n",
    "    std::vector<std::vector<double> > dist;\n",
    "    std::vector<std::vector<double> > pheromones{{}};\n",
    "\n",
    "    std::vector<int> bestPath{};\n",
    "public:\n",
    "    std::vector<double> settings{1.0, 5.0, 0.5, 100};\n",
    "    int numAnts = -1;\n",
    "    int maxIter;\n",
    "    double bestCost;\n",
    "\n",
    "    const std::vector<int>& getBestPath() const\n",
    "    {\n",
    "        return bestPath;\n",
    "    }\n",
    "\n",
    "    ACO(std::vector<std::vector<double> > distgraph, int iters = 10, int numAnt = -1)\n",
    "            :dist(distgraph), numAnts(numAnt), maxIter(iters) { if (numAnt==-1) numAnts = dist.size(); }\n",
    "\n",
    "    double run()\n",
    "    {\n",
    "        double size = dist.size();\n",
    "        assert(size>0);\n",
    "        double init_pheromone = 1/size;\n",
    "        pheromones.resize(size);\n",
    "        for (int i = 0; i<size; ++i) {\n",
    "            pheromones[i].resize(size);\n",
    "        }\n",
    "        for (int i = 0; i<size; ++i) {\n",
    "            for (int j = i+1; j<size; ++j) {\n",
    "                pheromones[i][j] = init_pheromone;\n",
    "                pheromones[j][i] = init_pheromone;\n",
    "            }\n",
    "        }\n",
    "        bestCost = std::numeric_limits<double>::max();\n",
    "\n",
    "        for (int i = 0; i<maxIter; ++i) {\n",
    "            std::vector<Ant> ants(numAnts, {0, &pheromones, &dist});\n",
    "            int index = 0;\n",
    "            // Run ants\n",
    "            for (auto& ant:ants) {\n",
    "                ant.setInitCity(index);\n",
    "                ant.settings = settings;\n",
    "                double curCost = ant.run();\n",
    "                if (curCost<=bestCost) {\n",
    "                    bestCost = curCost;\n",
    "                    bestPath = ant.builtPath;\n",
    "                }\n",
    "                if (++index>=size) index = 0;\n",
    "            }\n",
    "            // Update pheromones\n",
    "            for (const auto& ant:ants) {\n",
    "                for (int i = 0; i<size; ++i) {\n",
    "                    int from = i;\n",
    "                    int to = i + 1;\n",
    "                    if ((i+1) == size) {\n",
    "                        to = 0;\n",
    "                    }\n",
    "                    int antFrom = ant.builtPath[from];\n",
    "                    int antTo = ant.builtPath[to];\n",
    "                    pheromones[antFrom][antTo] = pheromones[antFrom][antTo] = (settings[3]/ant.tourLength);\n",
    "                }\n",
    "            }\n",
    "\n",
    "            // Evaporate\n",
    "            for (int i = 0; i<size; ++i) {\n",
    "                for (int j = 0; j<size; ++j) {\n",
    "                    pheromones[i][j] *= settings[2];\n",
    "                }\n",
    "            }\n",
    "        }\n",
    "        return bestCost;\n",
    "\n",
    "    }\n",
    "\n",
    "\n",
    "};"
   ]
  },
  {
   "cell_type": "code",
   "execution_count": 16,
   "metadata": {
    "collapsed": false
   },
   "outputs": [],
   "source": [
    "aco = ROOT.ACO(vector2d_from_list(distgraph))"
   ]
  },
  {
   "cell_type": "code",
   "execution_count": 25,
   "metadata": {
    "collapsed": false
   },
   "outputs": [],
   "source": [
    "class PyACO(ROOT.ACO):\n",
    "    def __init__(self): ROOT.ACO.__init__(self, vector2d_from_list(distgraph))\n",
    "    def run(self): ROOT.ACO.run(self)\n",
    "    def cost: ROOT.ACO."
   ]
  },
  {
   "cell_type": "code",
   "execution_count": 18,
   "metadata": {
    "collapsed": true
   },
   "outputs": [],
   "source": [
    "c = aco.run()"
   ]
  },
  {
   "cell_type": "raw",
   "metadata": {},
   "source": [
    "print c"
   ]
  },
  {
   "cell_type": "code",
   "execution_count": 19,
   "metadata": {
    "collapsed": false
   },
   "outputs": [
    {
     "data": {
      "text/plain": [
       "22.0"
      ]
     },
     "execution_count": 19,
     "metadata": {},
     "output_type": "execute_result"
    }
   ],
   "source": [
    "aco.bestCost"
   ]
  },
  {
   "cell_type": "code",
   "execution_count": 24,
   "metadata": {
    "collapsed": false
   },
   "outputs": [],
   "source": [
    "p = aco.getBestPath()"
   ]
  },
  {
   "cell_type": "raw",
   "metadata": {},
   "source": [
    "print list(p)"
   ]
  },
  {
   "cell_type": "code",
   "execution_count": 25,
   "metadata": {
    "collapsed": false
   },
   "outputs": [
    {
     "name": "stdout",
     "output_type": "stream",
     "text": [
      "<ROOT.vector<int> object at 0x7fd387d01730>\n"
     ]
    }
   ],
   "source": [
    "print p\n"
   ]
  },
  {
   "cell_type": "code",
   "execution_count": 26,
   "metadata": {
    "collapsed": false
   },
   "outputs": [
    {
     "data": {
      "text/plain": [
       "3"
      ]
     },
     "execution_count": 26,
     "metadata": {},
     "output_type": "execute_result"
    }
   ],
   "source": [
    "p[0]"
   ]
  },
  {
   "cell_type": "code",
   "execution_count": 27,
   "metadata": {
    "collapsed": false
   },
   "outputs": [
    {
     "data": {
      "text/plain": [
       "[3, 2, 1, 0]"
      ]
     },
     "execution_count": 27,
     "metadata": {},
     "output_type": "execute_result"
    }
   ],
   "source": [
    "list(p)"
   ]
  },
  {
   "cell_type": "code",
   "execution_count": 28,
   "metadata": {
    "collapsed": false
   },
   "outputs": [
    {
     "name": "stdout",
     "output_type": "stream",
     "text": [
      "[3, 2, 1, 0]\n"
     ]
    }
   ],
   "source": [
    "print list(p)"
   ]
  },
  {
   "cell_type": "code",
   "execution_count": null,
   "metadata": {
    "collapsed": true
   },
   "outputs": [],
   "source": []
  }
 ],
 "metadata": {
  "kernelspec": {
   "display_name": "Python 2",
   "language": "python",
   "name": "python2"
  },
  "language_info": {
   "codemirror_mode": {
    "name": "ipython",
    "version": 2
   },
   "file_extension": ".py",
   "mimetype": "text/x-python",
   "name": "python",
   "nbconvert_exporter": "python",
   "pygments_lexer": "ipython2",
   "version": "2.7.11"
  }
 },
 "nbformat": 4,
 "nbformat_minor": 0
}
