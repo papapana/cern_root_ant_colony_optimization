{
 "cells": [
  {
   "cell_type": "markdown",
   "metadata": {},
   "source": [
    "# Developing an Ant Colony Optimization algorithm using ROOT"
   ]
  },
  {
   "cell_type": "markdown",
   "metadata": {},
   "source": [
    "## Introduction\n",
    "\n",
    "In this document we are going to show how to develop an Ant Colony Optimization algorithm for solving the TSP using the data analysis software package by CERN, ROOT. The interface is in python to keep things simple but the logic is in C++."
   ]
  },
  {
   "cell_type": "code",
   "execution_count": 1,
   "metadata": {
    "collapsed": false
   },
   "outputs": [
    {
     "data": {
      "application/javascript": [
       "require(['codemirror/mode/clike/clike'], function(Clike) { console.log('ROOTaaS - C++ CodeMirror module loaded'); });"
      ]
     },
     "metadata": {},
     "output_type": "display_data"
    },
    {
     "data": {
      "application/javascript": [
       "IPython.CodeCell.config_defaults.highlight_modes['magic_text/x-c++src'] = {'reg':[/^%%cpp/]};"
      ]
     },
     "metadata": {},
     "output_type": "display_data"
    },
    {
     "name": "stdout",
     "output_type": "stream",
     "text": [
      "Welcome to ROOTaaS 6.06/00\n"
     ]
    }
   ],
   "source": [
    "from __future__ import division\n",
    "\n",
    "import ROOT\n",
    "import igraph\n",
    "\n",
    "distgraph = [\n",
    "    [0,5,20,5],\n",
    "    [5,0,5,2],\n",
    "    [20,5,0,7],\n",
    "    [5,2,7,0]\n",
    "]\n",
    "\n",
    "from ROOT import std\n",
    "\n",
    "dg = std.vector('std::vector<double>')()\n",
    "\n",
    "def vector2d_from_list(lst):\n",
    "    ret = std.vector('std::vector<double>')()\n",
    "    for row in distgraph:\n",
    "        temp = std.vector('double')()\n",
    "        for col in row:\n",
    "            temp.push_back(col)\n",
    "        ret.push_back(temp);\n",
    "    return(ret)\n",
    "        "
   ]
  },
  {
   "cell_type": "code",
   "execution_count": 63,
   "metadata": {
    "collapsed": false
   },
   "outputs": [
    {
     "data": {
      "image/svg+xml": [
       "<?xml version=\"1.0\" encoding=\"UTF-8\"?>\n",
       "<svg xmlns=\"http://www.w3.org/2000/svg\" xmlns:xlink=\"http://www.w3.org/1999/xlink\" width=\"600pt\" height=\"600pt\" viewBox=\"0 0 600 600\" version=\"1.1\">\n",
       "<defs>\n",
       "<g>\n",
       "<symbol overflow=\"visible\" id=\"glyph0-0\">\n",
       "<path style=\"stroke:none;\" d=\"\"/>\n",
       "</symbol>\n",
       "<symbol overflow=\"visible\" id=\"glyph0-1\">\n",
       "<path style=\"stroke:none;\" d=\"M 6.535156 -8.222656 C 6.972656 -7.417969 7.191406 -6.3125 7.191406 -4.90625 C 7.191406 -3.578125 6.992188 -2.476562 6.597656 -1.605469 C 6.023438 -0.359375 5.082031 0.265625 3.78125 0.265625 C 2.605469 0.265625 1.730469 -0.242188 1.15625 -1.265625 C 0.675781 -2.117188 0.4375 -3.261719 0.4375 -4.695312 C 0.4375 -5.808594 0.582031 -6.761719 0.867188 -7.5625 C 1.40625 -9.046875 2.378906 -9.789062 3.789062 -9.789062 C 5.054688 -9.789062 5.96875 -9.265625 6.535156 -8.222656 Z M 5.296875 -1.703125 C 5.675781 -2.265625 5.867188 -3.320312 5.867188 -4.859375 C 5.867188 -5.972656 5.726562 -6.886719 5.453125 -7.605469 C 5.179688 -8.324219 4.652344 -8.679688 3.863281 -8.679688 C 3.136719 -8.679688 2.609375 -8.339844 2.273438 -7.660156 C 1.9375 -6.976562 1.769531 -5.976562 1.769531 -4.648438 C 1.769531 -3.648438 1.878906 -2.847656 2.09375 -2.242188 C 2.421875 -1.316406 2.980469 -0.855469 3.773438 -0.855469 C 4.410156 -0.855469 4.917969 -1.136719 5.296875 -1.703125 Z M 5.296875 -1.703125 \"/>\n",
       "</symbol>\n",
       "<symbol overflow=\"visible\" id=\"glyph0-2\">\n",
       "<path style=\"stroke:none;\" d=\"M 1.339844 -6.929688 L 1.339844 -7.875 C 2.226562 -7.960938 2.847656 -8.105469 3.199219 -8.308594 C 3.550781 -8.511719 3.8125 -8.992188 3.984375 -9.75 L 4.957031 -9.75 L 4.957031 0 L 3.644531 0 L 3.644531 -6.929688 Z M 1.339844 -6.929688 \"/>\n",
       "</symbol>\n",
       "<symbol overflow=\"visible\" id=\"glyph0-3\">\n",
       "<path style=\"stroke:none;\" d=\"M 0.960938 -2.203125 C 1.265625 -2.828125 1.855469 -3.394531 2.734375 -3.902344 L 4.046875 -4.664062 C 4.632812 -5.003906 5.046875 -5.296875 5.285156 -5.539062 C 5.65625 -5.914062 5.84375 -6.347656 5.84375 -6.835938 C 5.84375 -7.40625 5.671875 -7.859375 5.332031 -8.191406 C 4.992188 -8.527344 4.535156 -8.695312 3.964844 -8.695312 C 3.121094 -8.695312 2.539062 -8.375 2.214844 -7.738281 C 2.042969 -7.398438 1.945312 -6.921875 1.929688 -6.316406 L 0.675781 -6.316406 C 0.691406 -7.167969 0.847656 -7.863281 1.148438 -8.402344 C 1.679688 -9.351562 2.621094 -9.824219 3.972656 -9.824219 C 5.09375 -9.824219 5.910156 -9.519531 6.429688 -8.914062 C 6.945312 -8.308594 7.203125 -7.632812 7.203125 -6.890625 C 7.203125 -6.105469 6.929688 -5.4375 6.378906 -4.882812 C 6.058594 -4.558594 5.488281 -4.164062 4.664062 -3.703125 L 3.726562 -3.1875 C 3.28125 -2.941406 2.929688 -2.703125 2.671875 -2.480469 C 2.21875 -2.085938 1.929688 -1.644531 1.8125 -1.164062 L 7.15625 -1.164062 L 7.15625 0 L 0.4375 0 C 0.484375 -0.84375 0.65625 -1.578125 0.960938 -2.203125 Z M 0.960938 -2.203125 \"/>\n",
       "</symbol>\n",
       "<symbol overflow=\"visible\" id=\"glyph0-4\">\n",
       "<path style=\"stroke:none;\" d=\"M 1.117188 -0.6875 C 0.59375 -1.324219 0.335938 -2.097656 0.335938 -3.007812 L 1.621094 -3.007812 C 1.675781 -2.375 1.792969 -1.914062 1.976562 -1.625 C 2.296875 -1.109375 2.871094 -0.855469 3.703125 -0.855469 C 4.351562 -0.855469 4.871094 -1.027344 5.265625 -1.375 C 5.65625 -1.71875 5.851562 -2.167969 5.851562 -2.714844 C 5.851562 -3.390625 5.644531 -3.859375 5.234375 -4.128906 C 4.820312 -4.398438 4.246094 -4.53125 3.515625 -4.53125 C 3.433594 -4.53125 3.347656 -4.53125 3.265625 -4.527344 C 3.179688 -4.527344 3.09375 -4.523438 3.007812 -4.519531 L 3.007812 -5.605469 C 3.136719 -5.59375 3.242188 -5.582031 3.328125 -5.578125 C 3.414062 -5.574219 3.507812 -5.570312 3.609375 -5.570312 C 4.070312 -5.570312 4.449219 -5.644531 4.742188 -5.789062 C 5.261719 -6.046875 5.523438 -6.5 5.523438 -7.15625 C 5.523438 -7.644531 5.351562 -8.019531 5.003906 -8.285156 C 4.65625 -8.550781 4.253906 -8.679688 3.792969 -8.679688 C 2.972656 -8.679688 2.40625 -8.40625 2.09375 -7.859375 C 1.917969 -7.558594 1.820312 -7.132812 1.796875 -6.578125 L 0.582031 -6.578125 C 0.582031 -7.304688 0.726562 -7.925781 1.019531 -8.4375 C 1.519531 -9.347656 2.402344 -9.804688 3.664062 -9.804688 C 4.664062 -9.804688 5.433594 -9.582031 5.980469 -9.136719 C 6.527344 -8.691406 6.800781 -8.046875 6.800781 -7.203125 C 6.800781 -6.601562 6.640625 -6.117188 6.316406 -5.742188 C 6.117188 -5.507812 5.855469 -5.328125 5.539062 -5.195312 C 6.054688 -5.054688 6.453125 -4.78125 6.742188 -4.378906 C 7.03125 -3.976562 7.179688 -3.480469 7.179688 -2.898438 C 7.179688 -1.964844 6.871094 -1.203125 6.253906 -0.617188 C 5.640625 -0.0273438 4.765625 0.265625 3.636719 0.265625 C 2.480469 0.265625 1.640625 -0.0507812 1.117188 -0.6875 Z M 1.117188 -0.6875 \"/>\n",
       "</symbol>\n",
       "<symbol overflow=\"visible\" id=\"glyph1-0\">\n",
       "<path style=\"stroke:none;\" d=\"\"/>\n",
       "</symbol>\n",
       "<symbol overflow=\"visible\" id=\"glyph1-1\">\n",
       "<path style=\"stroke:none;\" d=\"M 1.484375 -2.140625 C 1.554688 -1.539062 1.832031 -1.121094 2.320312 -0.890625 C 2.570312 -0.773438 2.859375 -0.714844 3.1875 -0.714844 C 3.8125 -0.714844 4.273438 -0.914062 4.578125 -1.3125 C 4.878906 -1.710938 5.027344 -2.152344 5.027344 -2.636719 C 5.027344 -3.222656 4.847656 -3.675781 4.492188 -3.996094 C 4.132812 -4.316406 3.703125 -4.476562 3.203125 -4.476562 C 2.839844 -4.476562 2.53125 -4.40625 2.269531 -4.265625 C 2.011719 -4.125 1.789062 -3.929688 1.605469 -3.679688 L 0.691406 -3.734375 L 1.328125 -8.25 L 5.6875 -8.25 L 5.6875 -7.230469 L 2.121094 -7.230469 L 1.765625 -4.898438 C 1.960938 -5.046875 2.144531 -5.15625 2.320312 -5.234375 C 2.632812 -5.363281 2.992188 -5.425781 3.40625 -5.425781 C 4.175781 -5.425781 4.828125 -5.179688 5.359375 -4.679688 C 5.894531 -4.183594 6.164062 -3.554688 6.164062 -2.796875 C 6.164062 -2.003906 5.917969 -1.304688 5.429688 -0.695312 C 4.9375 -0.0898438 4.15625 0.210938 3.082031 0.210938 C 2.398438 0.210938 1.792969 0.0195312 1.269531 -0.367188 C 0.742188 -0.75 0.449219 -1.34375 0.386719 -2.140625 Z M 1.484375 -2.140625 \"/>\n",
       "</symbol>\n",
       "<symbol overflow=\"visible\" id=\"glyph1-2\">\n",
       "<path style=\"stroke:none;\" d=\"M 1.023438 -1.277344 L 2.25 -1.277344 L 2.25 0 L 1.023438 0 Z M 1.023438 -1.277344 \"/>\n",
       "</symbol>\n",
       "<symbol overflow=\"visible\" id=\"glyph1-3\">\n",
       "<path style=\"stroke:none;\" d=\"M 5.601562 -7.046875 C 5.976562 -6.355469 6.164062 -5.410156 6.164062 -4.207031 C 6.164062 -3.066406 5.992188 -2.125 5.65625 -1.375 C 5.164062 -0.304688 4.359375 0.226562 3.242188 0.226562 C 2.234375 0.226562 1.484375 -0.210938 0.992188 -1.085938 C 0.582031 -1.816406 0.375 -2.796875 0.375 -4.023438 C 0.375 -4.976562 0.5 -5.796875 0.742188 -6.480469 C 1.203125 -7.753906 2.039062 -8.390625 3.246094 -8.390625 C 4.332031 -8.390625 5.117188 -7.945312 5.601562 -7.046875 Z M 4.539062 -1.460938 C 4.863281 -1.945312 5.027344 -2.84375 5.027344 -4.164062 C 5.027344 -5.117188 4.910156 -5.902344 4.675781 -6.519531 C 4.441406 -7.132812 3.984375 -7.441406 3.3125 -7.441406 C 2.691406 -7.441406 2.234375 -7.148438 1.949219 -6.566406 C 1.660156 -5.980469 1.515625 -5.121094 1.515625 -3.984375 C 1.515625 -3.128906 1.609375 -2.441406 1.792969 -1.921875 C 2.074219 -1.128906 2.554688 -0.734375 3.234375 -0.734375 C 3.78125 -0.734375 4.21875 -0.976562 4.539062 -1.460938 Z M 4.539062 -1.460938 \"/>\n",
       "</symbol>\n",
       "<symbol overflow=\"visible\" id=\"glyph1-4\">\n",
       "<path style=\"stroke:none;\" d=\"M 0.824219 -1.886719 C 1.082031 -2.421875 1.589844 -2.90625 2.34375 -3.34375 L 3.46875 -3.996094 C 3.972656 -4.289062 4.328125 -4.539062 4.53125 -4.746094 C 4.851562 -5.070312 5.007812 -5.441406 5.007812 -5.859375 C 5.007812 -6.347656 4.863281 -6.734375 4.570312 -7.023438 C 4.277344 -7.308594 3.886719 -7.453125 3.398438 -7.453125 C 2.675781 -7.453125 2.175781 -7.179688 1.898438 -6.632812 C 1.75 -6.339844 1.667969 -5.933594 1.652344 -5.414062 L 0.578125 -5.414062 C 0.589844 -6.144531 0.726562 -6.742188 0.984375 -7.203125 C 1.441406 -8.015625 2.25 -8.421875 3.40625 -8.421875 C 4.367188 -8.421875 5.066406 -8.160156 5.511719 -7.640625 C 5.953125 -7.121094 6.175781 -6.542969 6.175781 -5.90625 C 6.175781 -5.234375 5.9375 -4.660156 5.46875 -4.183594 C 5.195312 -3.90625 4.703125 -3.570312 3.996094 -3.175781 L 3.195312 -2.730469 C 2.8125 -2.519531 2.507812 -2.320312 2.289062 -2.125 C 1.898438 -1.785156 1.65625 -1.410156 1.554688 -0.996094 L 6.132812 -0.996094 L 6.132812 0 L 0.375 0 C 0.414062 -0.722656 0.5625 -1.351562 0.824219 -1.886719 Z M 0.824219 -1.886719 \"/>\n",
       "</symbol>\n",
       "<symbol overflow=\"visible\" id=\"glyph1-5\">\n",
       "<path style=\"stroke:none;\" d=\"M 6.273438 -8.25 L 6.273438 -7.328125 C 6.003906 -7.066406 5.648438 -6.613281 5.199219 -5.964844 C 4.753906 -5.316406 4.359375 -4.617188 4.015625 -3.867188 C 3.675781 -3.136719 3.414062 -2.46875 3.242188 -1.867188 C 3.128906 -1.480469 2.980469 -0.859375 2.800781 0 L 1.632812 0 C 1.898438 -1.601562 2.484375 -3.195312 3.390625 -4.78125 C 3.925781 -5.710938 4.492188 -6.515625 5.078125 -7.1875 L 0.4375 -7.1875 L 0.4375 -8.25 Z M 6.273438 -8.25 \"/>\n",
       "</symbol>\n",
       "</g>\n",
       "</defs>\n",
       "<g id=\"surface116\">\n",
       "<rect x=\"0\" y=\"0\" width=\"600\" height=\"600\" style=\"fill:rgb(100%,100%,100%);fill-opacity:1;stroke:none;\"/>\n",
       "<path style=\"fill:none;stroke-width:1;stroke-linecap:butt;stroke-linejoin:miter;stroke:rgb(26.666667%,26.666667%,26.666667%);stroke-opacity:1;stroke-miterlimit:10;\" d=\"M 217.773438 580 L 20 218.203125 \"/>\n",
       "<path style=\"fill:none;stroke-width:1;stroke-linecap:butt;stroke-linejoin:miter;stroke:rgb(26.666667%,26.666667%,26.666667%);stroke-opacity:1;stroke-miterlimit:10;\" d=\"M 217.773438 580 L 395.578125 20 \"/>\n",
       "<path style=\"fill:none;stroke-width:1;stroke-linecap:butt;stroke-linejoin:miter;stroke:rgb(26.666667%,26.666667%,26.666667%);stroke-opacity:1;stroke-miterlimit:10;\" d=\"M 217.773438 580 L 580 378.710938 \"/>\n",
       "<path style=\"fill:none;stroke-width:1;stroke-linecap:butt;stroke-linejoin:miter;stroke:rgb(26.666667%,26.666667%,26.666667%);stroke-opacity:1;stroke-miterlimit:10;\" d=\"M 20 218.203125 L 395.578125 20 \"/>\n",
       "<path style=\"fill:none;stroke-width:1;stroke-linecap:butt;stroke-linejoin:miter;stroke:rgb(26.666667%,26.666667%,26.666667%);stroke-opacity:1;stroke-miterlimit:10;\" d=\"M 20 218.203125 L 580 378.710938 \"/>\n",
       "<path style=\"fill:none;stroke-width:1;stroke-linecap:butt;stroke-linejoin:miter;stroke:rgb(26.666667%,26.666667%,26.666667%);stroke-opacity:1;stroke-miterlimit:10;\" d=\"M 395.578125 20 L 580 378.710938 \"/>\n",
       "<path style=\"fill-rule:nonzero;fill:rgb(100%,0%,0%);fill-opacity:1;stroke-width:1;stroke-linecap:butt;stroke-linejoin:miter;stroke:rgb(0%,0%,0%);stroke-opacity:1;stroke-miterlimit:10;\" d=\"M 227.773438 580 C 227.773438 585.523438 223.296875 590 217.773438 590 C 212.25 590 207.773438 585.523438 207.773438 580 C 207.773438 574.476562 212.25 570 217.773438 570 C 223.296875 570 227.773438 574.476562 227.773438 580 \"/>\n",
       "<path style=\"fill-rule:nonzero;fill:rgb(100%,0%,0%);fill-opacity:1;stroke-width:1;stroke-linecap:butt;stroke-linejoin:miter;stroke:rgb(0%,0%,0%);stroke-opacity:1;stroke-miterlimit:10;\" d=\"M 30 218.203125 C 30 223.726562 25.523438 228.203125 20 228.203125 C 14.476562 228.203125 10 223.726562 10 218.203125 C 10 212.679688 14.476562 208.203125 20 208.203125 C 25.523438 208.203125 30 212.679688 30 218.203125 \"/>\n",
       "<path style=\"fill-rule:nonzero;fill:rgb(100%,0%,0%);fill-opacity:1;stroke-width:1;stroke-linecap:butt;stroke-linejoin:miter;stroke:rgb(0%,0%,0%);stroke-opacity:1;stroke-miterlimit:10;\" d=\"M 405.578125 20 C 405.578125 25.523438 401.101562 30 395.578125 30 C 390.058594 30 385.578125 25.523438 385.578125 20 C 385.578125 14.476562 390.058594 10 395.578125 10 C 401.101562 10 405.578125 14.476562 405.578125 20 \"/>\n",
       "<path style=\"fill-rule:nonzero;fill:rgb(100%,0%,0%);fill-opacity:1;stroke-width:1;stroke-linecap:butt;stroke-linejoin:miter;stroke:rgb(0%,0%,0%);stroke-opacity:1;stroke-miterlimit:10;\" d=\"M 590 378.710938 C 590 384.234375 585.523438 388.710938 580 388.710938 C 574.476562 388.710938 570 384.234375 570 378.710938 C 570 373.1875 574.476562 368.710938 580 368.710938 C 585.523438 368.710938 590 373.1875 590 378.710938 \"/>\n",
       "<g style=\"fill:rgb(0%,0%,0%);fill-opacity:1;\">\n",
       "  <use xlink:href=\"#glyph0-1\" x=\"213.960938\" y=\"586.503906\"/>\n",
       "</g>\n",
       "<g style=\"fill:rgb(0%,0%,0%);fill-opacity:1;\">\n",
       "  <use xlink:href=\"#glyph0-2\" x=\"16.851562\" y=\"224.6875\"/>\n",
       "</g>\n",
       "<g style=\"fill:rgb(0%,0%,0%);fill-opacity:1;\">\n",
       "  <use xlink:href=\"#glyph0-3\" x=\"391.757812\" y=\"26.523438\"/>\n",
       "</g>\n",
       "<g style=\"fill:rgb(0%,0%,0%);fill-opacity:1;\">\n",
       "  <use xlink:href=\"#glyph0-4\" x=\"576.242188\" y=\"385.222656\"/>\n",
       "</g>\n",
       "<g style=\"fill:rgb(0%,0%,0%);fill-opacity:1;\">\n",
       "  <use xlink:href=\"#glyph1-1\" x=\"102.714844\" y=\"404.675781\"/>\n",
       "  <use xlink:href=\"#glyph1-2\" x=\"109.388672\" y=\"404.675781\"/>\n",
       "  <use xlink:href=\"#glyph1-3\" x=\"112.722656\" y=\"404.675781\"/>\n",
       "</g>\n",
       "<g style=\"fill:rgb(0%,0%,0%);fill-opacity:1;\">\n",
       "  <use xlink:href=\"#glyph1-4\" x=\"283.832031\" y=\"305.589844\"/>\n",
       "  <use xlink:href=\"#glyph1-3\" x=\"290.505859\" y=\"305.589844\"/>\n",
       "  <use xlink:href=\"#glyph1-2\" x=\"297.179688\" y=\"305.589844\"/>\n",
       "  <use xlink:href=\"#glyph1-3\" x=\"300.513672\" y=\"305.589844\"/>\n",
       "</g>\n",
       "<g style=\"fill:rgb(0%,0%,0%);fill-opacity:1;\">\n",
       "  <use xlink:href=\"#glyph1-1\" x=\"382.714844\" y=\"474.3125\"/>\n",
       "  <use xlink:href=\"#glyph1-2\" x=\"389.388672\" y=\"474.3125\"/>\n",
       "  <use xlink:href=\"#glyph1-3\" x=\"392.722656\" y=\"474.3125\"/>\n",
       "</g>\n",
       "<g style=\"fill:rgb(0%,0%,0%);fill-opacity:1;\">\n",
       "  <use xlink:href=\"#glyph1-1\" x=\"191.617188\" y=\"114.058594\"/>\n",
       "  <use xlink:href=\"#glyph1-2\" x=\"198.291016\" y=\"114.058594\"/>\n",
       "  <use xlink:href=\"#glyph1-3\" x=\"201.625\" y=\"114.058594\"/>\n",
       "</g>\n",
       "<g style=\"fill:rgb(0%,0%,0%);fill-opacity:1;\">\n",
       "  <use xlink:href=\"#glyph1-4\" x=\"299.625\" y=\"293.425781\"/>\n",
       "  <use xlink:href=\"#glyph1-2\" x=\"306.298828\" y=\"293.425781\"/>\n",
       "  <use xlink:href=\"#glyph1-3\" x=\"309.632812\" y=\"293.425781\"/>\n",
       "</g>\n",
       "<g style=\"fill:rgb(0%,0%,0%);fill-opacity:1;\">\n",
       "  <use xlink:href=\"#glyph1-5\" x=\"487.351562\" y=\"204.929688\"/>\n",
       "  <use xlink:href=\"#glyph1-2\" x=\"494.025391\" y=\"204.929688\"/>\n",
       "  <use xlink:href=\"#glyph1-3\" x=\"497.359375\" y=\"204.929688\"/>\n",
       "</g>\n",
       "</g>\n",
       "</svg>\n"
      ],
      "text/plain": [
       "<igraph.drawing.Plot at 0x119aa5e50>"
      ]
     },
     "execution_count": 63,
     "metadata": {},
     "output_type": "execute_result"
    }
   ],
   "source": [
    "g = igraph.Graph.Weighted_Adjacency(distgraph, mode = igraph.ADJ_MAX, loops = False, attr = \"weight\")\n",
    "g.vs['label'] = range(len(distgraph))\n",
    "igraph.plot(g, labels = True, edge_label=g.es[\"weight\"])"
   ]
  },
  {
   "cell_type": "code",
   "execution_count": 10,
   "metadata": {
    "collapsed": false
   },
   "outputs": [
    {
     "name": "stdout",
     "output_type": "stream",
     "text": [
      "hello\r\n"
     ]
    }
   ],
   "source": [
    "%%cpp\n",
    "cout << \"hello\" << endl;"
   ]
  },
  {
   "cell_type": "code",
   "execution_count": 11,
   "metadata": {
    "collapsed": false
   },
   "outputs": [],
   "source": [
    "\n",
    "%%cpp -d\n",
    "void print_vector2d(const std::vector<std::vector<double> >& v)\n",
    "        {\n",
    "            for (const auto& row:v){\n",
    "                for (const auto& col:row) {\n",
    "                    std::cout << col << \" \";\n",
    "                }\n",
    "                std::cout << endl;\n",
    "            }\n",
    "        }"
   ]
  },
  {
   "cell_type": "code",
   "execution_count": 12,
   "metadata": {
    "collapsed": false
   },
   "outputs": [
    {
     "name": "stdout",
     "output_type": "stream",
     "text": [
      "0 5 20 5 \r\n",
      "5 0 5 2 \r\n",
      "20 5 0 7 \r\n",
      "5 2 7 0 \r\n"
     ]
    }
   ],
   "source": [
    "ROOT.print_vector2d(vector2d_from_list(distgraph))"
   ]
  },
  {
   "cell_type": "code",
   "execution_count": 13,
   "metadata": {
    "collapsed": false
   },
   "outputs": [],
   "source": [
    "init_pherom = 1/len(distgraph)"
   ]
  },
  {
   "cell_type": "code",
   "execution_count": 14,
   "metadata": {
    "collapsed": false
   },
   "outputs": [],
   "source": [
    "pheromones = [\n",
    "    [(init_pherom if x!=y else 0.0) for x in range(len(distgraph))] \n",
    "              for y in range(len(distgraph))\n",
    "]"
   ]
  },
  {
   "cell_type": "code",
   "execution_count": 15,
   "metadata": {
    "collapsed": false
   },
   "outputs": [
    {
     "data": {
      "text/plain": [
       "[[0.0, 0.25, 0.25, 0.25],\n",
       " [0.25, 0.0, 0.25, 0.25],\n",
       " [0.25, 0.25, 0.0, 0.25],\n",
       " [0.25, 0.25, 0.25, 0.0]]"
      ]
     },
     "execution_count": 15,
     "metadata": {},
     "output_type": "execute_result"
    }
   ],
   "source": [
    "pheromones"
   ]
  },
  {
   "cell_type": "code",
   "execution_count": 16,
   "metadata": {
    "collapsed": false
   },
   "outputs": [
    {
     "name": "stdout",
     "output_type": "stream",
     "text": [
      "0 5 20 5 \r\n",
      "5 0 5 2 \r\n",
      "20 5 0 7 \r\n",
      "5 2 7 0 \r\n"
     ]
    }
   ],
   "source": [
    "ROOT.print_vector2d(vector2d_from_list(pheromones))"
   ]
  },
  {
   "cell_type": "code",
   "execution_count": 17,
   "metadata": {
    "collapsed": false
   },
   "outputs": [
    {
     "name": "stdout",
     "output_type": "stream",
     "text": [
      "0 5 20 5 \r\n",
      "5 0 5 2 \r\n",
      "20 5 0 7 \r\n",
      "5 2 7 0 \r\n"
     ]
    }
   ],
   "source": [
    "ROOT.print_vector2d(vector2d_from_list(distgraph))"
   ]
  },
  {
   "cell_type": "code",
   "execution_count": 18,
   "metadata": {
    "collapsed": false
   },
   "outputs": [
    {
     "data": {
      "text/plain": [
       "[[0.0, 0.25, 0.25, 0.25],\n",
       " [0.25, 0.0, 0.25, 0.25],\n",
       " [0.25, 0.25, 0.0, 0.25],\n",
       " [0.25, 0.25, 0.25, 0.0]]"
      ]
     },
     "execution_count": 18,
     "metadata": {},
     "output_type": "execute_result"
    }
   ],
   "source": [
    "pheromones\n"
   ]
  },
  {
   "cell_type": "markdown",
   "metadata": {},
   "source": [
    "Each ant selects the arc to follow with the following probability $$p_{ij}=\\frac{\\eta_{ij}^\\alpha \\tau_{ij}^\\beta}{\\sum\\limits_{k}\\eta_{ij}^\\alpha \\tau_{ij}^\\beta}$$\n",
    "Here we define the settings as a list with [$\\alpha$, $\\beta$, $\\rho$, QVAL]"
   ]
  },
  {
   "cell_type": "code",
   "execution_count": 19,
   "metadata": {
    "collapsed": false
   },
   "outputs": [],
   "source": [
    "\n",
    "%%cpp -d\n",
    "#include <vector>\n",
    "\n",
    "#include <cmath>\n",
    "#include <random>\n",
    "#include <cassert>\n",
    "class Ant {\n",
    "    int initCity;\n",
    "    std::vector<std::vector<double> >* pheromones;\n",
    "    std::vector<std::vector<double> >* dist;\n",
    "    std::vector<unsigned char> visited{};\n",
    "\n",
    "public:\n",
    "    std::vector<double> settings{1.0, 5.0, 0.5, 100};\n",
    "    double tourLength;\n",
    "    std::vector<int> builtPath{};\n",
    "\n",
    "    int getInitCity() const\n",
    "    {\n",
    "        return initCity;\n",
    "    }\n",
    "\n",
    "    void setInitCity(int initCity)\n",
    "    {\n",
    "        Ant::initCity = initCity;\n",
    "    }\n",
    "\n",
    "    Ant(int city, std::vector<std::vector<double> >* pherom, std::vector<std::vector<double> >* distgraph)\n",
    "            :initCity(city), pheromones(pherom), dist(distgraph)\n",
    "    {\n",
    "        visited.resize(dist->size());\n",
    "        visited[city] = 1;\n",
    "    }\n",
    "\n",
    "    double prob(int from, int to)\n",
    "    {\n",
    "        double nom = (std::pow(1/(*dist)[from][to], settings[0])*std::pow((*pheromones)[from][to], settings[1]));\n",
    "        double denom = 0.0;\n",
    "        for (int i = 0; i<visited.size(); ++i) {\n",
    "            if (visited[i]==0) {\n",
    "                denom += (std::pow(1/(*dist)[from][i], settings[0])*std::pow((*pheromones)[from][i], settings[1]));\n",
    "            }\n",
    "        }\n",
    "        if (denom>0.00001) {\n",
    "            return nom/denom;\n",
    "        }\n",
    "        else {\n",
    "            return 1.0;\n",
    "        }\n",
    "    }\n",
    "\n",
    "    double run()\n",
    "    {\n",
    "        int visitNum = 0;\n",
    "        int size = dist->size();\n",
    "        int curCity = initCity;\n",
    "        std::random_device rand;\n",
    "        double tourLen = 0.0;\n",
    "        visited.clear();\n",
    "        visited.resize(size);\n",
    "        visited[curCity] = 1;\n",
    "        builtPath.clear();\n",
    "        builtPath.resize(size);\n",
    "        builtPath[visitNum] = curCity;\n",
    "        while (visitNum<(size-1)) {\n",
    "\n",
    "            double probNum;\n",
    "            double visitProb;\n",
    "            int index;\n",
    "\n",
    "            index = curCity;\n",
    "            do {\n",
    "                ++index;\n",
    "                if (index>=size) {\n",
    "                    index = 0;\n",
    "                }\n",
    "                if (visited[index]) {\n",
    "                    visitProb = 0;\n",
    "                }\n",
    "                else {\n",
    "                    visitProb = prob(curCity, index);\n",
    "                }\n",
    "                probNum = static_cast<double>(rand())/rand.max();\n",
    "            }\n",
    "            while (probNum>visitProb);\n",
    "            tourLen += (*dist)[curCity][index];\n",
    "            curCity = index;\n",
    "            visited[index] = 1;\n",
    "            visitNum++;\n",
    "            builtPath[visitNum] = curCity;\n",
    "        }\n",
    "        tourLen += (*dist)[curCity][initCity];\n",
    "        tourLength = tourLen;\n",
    "        return tourLen;\n",
    "    }\n",
    "\n",
    "};"
   ]
  },
  {
   "cell_type": "code",
   "execution_count": 20,
   "metadata": {
    "collapsed": false
   },
   "outputs": [
    {
     "data": {
      "text/plain": [
       "ROOT.Ant"
      ]
     },
     "execution_count": 20,
     "metadata": {},
     "output_type": "execute_result"
    }
   ],
   "source": [
    "ROOT.Ant"
   ]
  },
  {
   "cell_type": "code",
   "execution_count": 21,
   "metadata": {
    "collapsed": false
   },
   "outputs": [],
   "source": [
    "\n",
    "%%cpp -d\n",
    "class ACO {\n",
    "private:\n",
    "    std::vector<std::vector<double> > dist;\n",
    "    std::vector<std::vector<double> > pheromones{{}};\n",
    "\n",
    "    std::vector<int> bestPath{};\n",
    "public:\n",
    "    std::vector<double> settings{1.0, 5.0, 0.5, 100};\n",
    "    int numAnts = -1;\n",
    "    int maxIter;\n",
    "    double bestCost;\n",
    "\n",
    "    const std::vector<int>& getBestPath() const\n",
    "    {\n",
    "        return bestPath;\n",
    "    }\n",
    "\n",
    "    ACO(std::vector<std::vector<double> > distgraph, int iters = 10, int numAnt = -1)\n",
    "            :dist(distgraph), numAnts(numAnt), maxIter(iters) { if (numAnt==-1) numAnts = dist.size(); }\n",
    "\n",
    "    double run()\n",
    "    {\n",
    "        double size = dist.size();\n",
    "        assert(size>0);\n",
    "        double init_pheromone = 1/size;\n",
    "        pheromones.resize(size);\n",
    "        for (int i = 0; i<size; ++i) {\n",
    "            pheromones[i].resize(size);\n",
    "        }\n",
    "        for (int i = 0; i<size; ++i) {\n",
    "            for (int j = i+1; j<size; ++j) {\n",
    "                pheromones[i][j] = init_pheromone;\n",
    "                pheromones[j][i] = init_pheromone;\n",
    "            }\n",
    "        }\n",
    "        bestCost = std::numeric_limits<double>::max();\n",
    "\n",
    "        for (int i = 0; i<maxIter; ++i) {\n",
    "            std::vector<Ant> ants(numAnts, {0, &pheromones, &dist});\n",
    "            int index = 0;\n",
    "            // Run ants\n",
    "            for (auto& ant:ants) {\n",
    "                ant.setInitCity(index);\n",
    "                ant.settings = settings;\n",
    "                double curCost = ant.run();\n",
    "                if (curCost<=bestCost) {\n",
    "                    bestCost = curCost;\n",
    "                    bestPath = ant.builtPath;\n",
    "                }\n",
    "                if (++index>=size) index = 0;\n",
    "            }\n",
    "            // Update pheromones\n",
    "            for (const auto& ant:ants) {\n",
    "                for (int i = 0; i<size; ++i) {\n",
    "                    int from = i;\n",
    "                    int to = i + 1;\n",
    "                    if ((i+1) == size) {\n",
    "                        to = 0;\n",
    "                    }\n",
    "                    int antFrom = ant.builtPath[from];\n",
    "                    int antTo = ant.builtPath[to];\n",
    "                    pheromones[antFrom][antTo] = pheromones[antFrom][antTo] = (settings[3]/ant.tourLength);\n",
    "                }\n",
    "            }\n",
    "\n",
    "            // Evaporate\n",
    "            for (int i = 0; i<size; ++i) {\n",
    "                for (int j = 0; j<size; ++j) {\n",
    "                    pheromones[i][j] *= settings[2];\n",
    "                }\n",
    "            }\n",
    "        }\n",
    "        return bestCost;\n",
    "\n",
    "    }\n",
    "\n",
    "\n",
    "};"
   ]
  },
  {
   "cell_type": "code",
   "execution_count": 22,
   "metadata": {
    "collapsed": false
   },
   "outputs": [],
   "source": [
    "aco = ROOT.ACO(vector2d_from_list(distgraph))"
   ]
  },
  {
   "cell_type": "code",
   "execution_count": 23,
   "metadata": {
    "collapsed": true
   },
   "outputs": [],
   "source": [
    "c = aco.run()"
   ]
  },
  {
   "cell_type": "raw",
   "metadata": {},
   "source": [
    "print c"
   ]
  },
  {
   "cell_type": "code",
   "execution_count": 24,
   "metadata": {
    "collapsed": false
   },
   "outputs": [
    {
     "data": {
      "text/plain": [
       "22.0"
      ]
     },
     "execution_count": 24,
     "metadata": {},
     "output_type": "execute_result"
    }
   ],
   "source": [
    "aco.bestCost"
   ]
  },
  {
   "cell_type": "code",
   "execution_count": 25,
   "metadata": {
    "collapsed": false
   },
   "outputs": [],
   "source": [
    "p = aco.getBestPath()"
   ]
  },
  {
   "cell_type": "raw",
   "metadata": {},
   "source": [
    "print list(p)"
   ]
  },
  {
   "cell_type": "code",
   "execution_count": 26,
   "metadata": {
    "collapsed": false
   },
   "outputs": [
    {
     "name": "stdout",
     "output_type": "stream",
     "text": [
      "<ROOT.vector<int> object at 0x7fb55043d0e0>\n"
     ]
    }
   ],
   "source": [
    "print p\n"
   ]
  },
  {
   "cell_type": "code",
   "execution_count": 27,
   "metadata": {
    "collapsed": false
   },
   "outputs": [
    {
     "data": {
      "text/plain": [
       "3"
      ]
     },
     "execution_count": 27,
     "metadata": {},
     "output_type": "execute_result"
    }
   ],
   "source": [
    "p[0]"
   ]
  },
  {
   "cell_type": "code",
   "execution_count": 28,
   "metadata": {
    "collapsed": false
   },
   "outputs": [
    {
     "data": {
      "text/plain": [
       "[3, 0, 1, 2]"
      ]
     },
     "execution_count": 28,
     "metadata": {},
     "output_type": "execute_result"
    }
   ],
   "source": [
    "list(p)"
   ]
  },
  {
   "cell_type": "code",
   "execution_count": 97,
   "metadata": {
    "collapsed": false
   },
   "outputs": [
    {
     "name": "stdout",
     "output_type": "stream",
     "text": [
      "[3, 0, 1, 2]\n"
     ]
    }
   ],
   "source": [
    "print list(p)"
   ]
  },
  {
   "cell_type": "code",
   "execution_count": 145,
   "metadata": {
    "collapsed": false
   },
   "outputs": [
    {
     "data": {
      "image/svg+xml": [
       "<?xml version=\"1.0\" encoding=\"UTF-8\"?>\n",
       "<svg xmlns=\"http://www.w3.org/2000/svg\" xmlns:xlink=\"http://www.w3.org/1999/xlink\" width=\"600pt\" height=\"600pt\" viewBox=\"0 0 600 600\" version=\"1.1\">\n",
       "<defs>\n",
       "<g>\n",
       "<symbol overflow=\"visible\" id=\"glyph0-0\">\n",
       "<path style=\"stroke:none;\" d=\"\"/>\n",
       "</symbol>\n",
       "<symbol overflow=\"visible\" id=\"glyph0-1\">\n",
       "<path style=\"stroke:none;\" d=\"M 6.535156 -8.222656 C 6.972656 -7.417969 7.191406 -6.3125 7.191406 -4.90625 C 7.191406 -3.578125 6.992188 -2.476562 6.597656 -1.605469 C 6.023438 -0.359375 5.082031 0.265625 3.78125 0.265625 C 2.605469 0.265625 1.730469 -0.242188 1.15625 -1.265625 C 0.675781 -2.117188 0.4375 -3.261719 0.4375 -4.695312 C 0.4375 -5.808594 0.582031 -6.761719 0.867188 -7.5625 C 1.40625 -9.046875 2.378906 -9.789062 3.789062 -9.789062 C 5.054688 -9.789062 5.96875 -9.265625 6.535156 -8.222656 Z M 5.296875 -1.703125 C 5.675781 -2.265625 5.867188 -3.320312 5.867188 -4.859375 C 5.867188 -5.972656 5.726562 -6.886719 5.453125 -7.605469 C 5.179688 -8.324219 4.652344 -8.679688 3.863281 -8.679688 C 3.136719 -8.679688 2.609375 -8.339844 2.273438 -7.660156 C 1.9375 -6.976562 1.769531 -5.976562 1.769531 -4.648438 C 1.769531 -3.648438 1.878906 -2.847656 2.09375 -2.242188 C 2.421875 -1.316406 2.980469 -0.855469 3.773438 -0.855469 C 4.410156 -0.855469 4.917969 -1.136719 5.296875 -1.703125 Z M 5.296875 -1.703125 \"/>\n",
       "</symbol>\n",
       "<symbol overflow=\"visible\" id=\"glyph0-2\">\n",
       "<path style=\"stroke:none;\" d=\"M 1.339844 -6.929688 L 1.339844 -7.875 C 2.226562 -7.960938 2.847656 -8.105469 3.199219 -8.308594 C 3.550781 -8.511719 3.8125 -8.992188 3.984375 -9.75 L 4.957031 -9.75 L 4.957031 0 L 3.644531 0 L 3.644531 -6.929688 Z M 1.339844 -6.929688 \"/>\n",
       "</symbol>\n",
       "<symbol overflow=\"visible\" id=\"glyph0-3\">\n",
       "<path style=\"stroke:none;\" d=\"M 0.960938 -2.203125 C 1.265625 -2.828125 1.855469 -3.394531 2.734375 -3.902344 L 4.046875 -4.664062 C 4.632812 -5.003906 5.046875 -5.296875 5.285156 -5.539062 C 5.65625 -5.914062 5.84375 -6.347656 5.84375 -6.835938 C 5.84375 -7.40625 5.671875 -7.859375 5.332031 -8.191406 C 4.992188 -8.527344 4.535156 -8.695312 3.964844 -8.695312 C 3.121094 -8.695312 2.539062 -8.375 2.214844 -7.738281 C 2.042969 -7.398438 1.945312 -6.921875 1.929688 -6.316406 L 0.675781 -6.316406 C 0.691406 -7.167969 0.847656 -7.863281 1.148438 -8.402344 C 1.679688 -9.351562 2.621094 -9.824219 3.972656 -9.824219 C 5.09375 -9.824219 5.910156 -9.519531 6.429688 -8.914062 C 6.945312 -8.308594 7.203125 -7.632812 7.203125 -6.890625 C 7.203125 -6.105469 6.929688 -5.4375 6.378906 -4.882812 C 6.058594 -4.558594 5.488281 -4.164062 4.664062 -3.703125 L 3.726562 -3.1875 C 3.28125 -2.941406 2.929688 -2.703125 2.671875 -2.480469 C 2.21875 -2.085938 1.929688 -1.644531 1.8125 -1.164062 L 7.15625 -1.164062 L 7.15625 0 L 0.4375 0 C 0.484375 -0.84375 0.65625 -1.578125 0.960938 -2.203125 Z M 0.960938 -2.203125 \"/>\n",
       "</symbol>\n",
       "<symbol overflow=\"visible\" id=\"glyph0-4\">\n",
       "<path style=\"stroke:none;\" d=\"M 1.117188 -0.6875 C 0.59375 -1.324219 0.335938 -2.097656 0.335938 -3.007812 L 1.621094 -3.007812 C 1.675781 -2.375 1.792969 -1.914062 1.976562 -1.625 C 2.296875 -1.109375 2.871094 -0.855469 3.703125 -0.855469 C 4.351562 -0.855469 4.871094 -1.027344 5.265625 -1.375 C 5.65625 -1.71875 5.851562 -2.167969 5.851562 -2.714844 C 5.851562 -3.390625 5.644531 -3.859375 5.234375 -4.128906 C 4.820312 -4.398438 4.246094 -4.53125 3.515625 -4.53125 C 3.433594 -4.53125 3.347656 -4.53125 3.265625 -4.527344 C 3.179688 -4.527344 3.09375 -4.523438 3.007812 -4.519531 L 3.007812 -5.605469 C 3.136719 -5.59375 3.242188 -5.582031 3.328125 -5.578125 C 3.414062 -5.574219 3.507812 -5.570312 3.609375 -5.570312 C 4.070312 -5.570312 4.449219 -5.644531 4.742188 -5.789062 C 5.261719 -6.046875 5.523438 -6.5 5.523438 -7.15625 C 5.523438 -7.644531 5.351562 -8.019531 5.003906 -8.285156 C 4.65625 -8.550781 4.253906 -8.679688 3.792969 -8.679688 C 2.972656 -8.679688 2.40625 -8.40625 2.09375 -7.859375 C 1.917969 -7.558594 1.820312 -7.132812 1.796875 -6.578125 L 0.582031 -6.578125 C 0.582031 -7.304688 0.726562 -7.925781 1.019531 -8.4375 C 1.519531 -9.347656 2.402344 -9.804688 3.664062 -9.804688 C 4.664062 -9.804688 5.433594 -9.582031 5.980469 -9.136719 C 6.527344 -8.691406 6.800781 -8.046875 6.800781 -7.203125 C 6.800781 -6.601562 6.640625 -6.117188 6.316406 -5.742188 C 6.117188 -5.507812 5.855469 -5.328125 5.539062 -5.195312 C 6.054688 -5.054688 6.453125 -4.78125 6.742188 -4.378906 C 7.03125 -3.976562 7.179688 -3.480469 7.179688 -2.898438 C 7.179688 -1.964844 6.871094 -1.203125 6.253906 -0.617188 C 5.640625 -0.0273438 4.765625 0.265625 3.636719 0.265625 C 2.480469 0.265625 1.640625 -0.0507812 1.117188 -0.6875 Z M 1.117188 -0.6875 \"/>\n",
       "</symbol>\n",
       "<symbol overflow=\"visible\" id=\"glyph1-0\">\n",
       "<path style=\"stroke:none;\" d=\"\"/>\n",
       "</symbol>\n",
       "<symbol overflow=\"visible\" id=\"glyph1-1\">\n",
       "<path style=\"stroke:none;\" d=\"M 1.484375 -2.140625 C 1.554688 -1.539062 1.832031 -1.121094 2.320312 -0.890625 C 2.570312 -0.773438 2.859375 -0.714844 3.1875 -0.714844 C 3.8125 -0.714844 4.273438 -0.914062 4.578125 -1.3125 C 4.878906 -1.710938 5.027344 -2.152344 5.027344 -2.636719 C 5.027344 -3.222656 4.847656 -3.675781 4.492188 -3.996094 C 4.132812 -4.316406 3.703125 -4.476562 3.203125 -4.476562 C 2.839844 -4.476562 2.53125 -4.40625 2.269531 -4.265625 C 2.011719 -4.125 1.789062 -3.929688 1.605469 -3.679688 L 0.691406 -3.734375 L 1.328125 -8.25 L 5.6875 -8.25 L 5.6875 -7.230469 L 2.121094 -7.230469 L 1.765625 -4.898438 C 1.960938 -5.046875 2.144531 -5.15625 2.320312 -5.234375 C 2.632812 -5.363281 2.992188 -5.425781 3.40625 -5.425781 C 4.175781 -5.425781 4.828125 -5.179688 5.359375 -4.679688 C 5.894531 -4.183594 6.164062 -3.554688 6.164062 -2.796875 C 6.164062 -2.003906 5.917969 -1.304688 5.429688 -0.695312 C 4.9375 -0.0898438 4.15625 0.210938 3.082031 0.210938 C 2.398438 0.210938 1.792969 0.0195312 1.269531 -0.367188 C 0.742188 -0.75 0.449219 -1.34375 0.386719 -2.140625 Z M 1.484375 -2.140625 \"/>\n",
       "</symbol>\n",
       "<symbol overflow=\"visible\" id=\"glyph1-2\">\n",
       "<path style=\"stroke:none;\" d=\"M 1.023438 -1.277344 L 2.25 -1.277344 L 2.25 0 L 1.023438 0 Z M 1.023438 -1.277344 \"/>\n",
       "</symbol>\n",
       "<symbol overflow=\"visible\" id=\"glyph1-3\">\n",
       "<path style=\"stroke:none;\" d=\"M 5.601562 -7.046875 C 5.976562 -6.355469 6.164062 -5.410156 6.164062 -4.207031 C 6.164062 -3.066406 5.992188 -2.125 5.65625 -1.375 C 5.164062 -0.304688 4.359375 0.226562 3.242188 0.226562 C 2.234375 0.226562 1.484375 -0.210938 0.992188 -1.085938 C 0.582031 -1.816406 0.375 -2.796875 0.375 -4.023438 C 0.375 -4.976562 0.5 -5.796875 0.742188 -6.480469 C 1.203125 -7.753906 2.039062 -8.390625 3.246094 -8.390625 C 4.332031 -8.390625 5.117188 -7.945312 5.601562 -7.046875 Z M 4.539062 -1.460938 C 4.863281 -1.945312 5.027344 -2.84375 5.027344 -4.164062 C 5.027344 -5.117188 4.910156 -5.902344 4.675781 -6.519531 C 4.441406 -7.132812 3.984375 -7.441406 3.3125 -7.441406 C 2.691406 -7.441406 2.234375 -7.148438 1.949219 -6.566406 C 1.660156 -5.980469 1.515625 -5.121094 1.515625 -3.984375 C 1.515625 -3.128906 1.609375 -2.441406 1.792969 -1.921875 C 2.074219 -1.128906 2.554688 -0.734375 3.234375 -0.734375 C 3.78125 -0.734375 4.21875 -0.976562 4.539062 -1.460938 Z M 4.539062 -1.460938 \"/>\n",
       "</symbol>\n",
       "<symbol overflow=\"visible\" id=\"glyph1-4\">\n",
       "<path style=\"stroke:none;\" d=\"M 0.824219 -1.886719 C 1.082031 -2.421875 1.589844 -2.90625 2.34375 -3.34375 L 3.46875 -3.996094 C 3.972656 -4.289062 4.328125 -4.539062 4.53125 -4.746094 C 4.851562 -5.070312 5.007812 -5.441406 5.007812 -5.859375 C 5.007812 -6.347656 4.863281 -6.734375 4.570312 -7.023438 C 4.277344 -7.308594 3.886719 -7.453125 3.398438 -7.453125 C 2.675781 -7.453125 2.175781 -7.179688 1.898438 -6.632812 C 1.75 -6.339844 1.667969 -5.933594 1.652344 -5.414062 L 0.578125 -5.414062 C 0.589844 -6.144531 0.726562 -6.742188 0.984375 -7.203125 C 1.441406 -8.015625 2.25 -8.421875 3.40625 -8.421875 C 4.367188 -8.421875 5.066406 -8.160156 5.511719 -7.640625 C 5.953125 -7.121094 6.175781 -6.542969 6.175781 -5.90625 C 6.175781 -5.234375 5.9375 -4.660156 5.46875 -4.183594 C 5.195312 -3.90625 4.703125 -3.570312 3.996094 -3.175781 L 3.195312 -2.730469 C 2.8125 -2.519531 2.507812 -2.320312 2.289062 -2.125 C 1.898438 -1.785156 1.65625 -1.410156 1.554688 -0.996094 L 6.132812 -0.996094 L 6.132812 0 L 0.375 0 C 0.414062 -0.722656 0.5625 -1.351562 0.824219 -1.886719 Z M 0.824219 -1.886719 \"/>\n",
       "</symbol>\n",
       "<symbol overflow=\"visible\" id=\"glyph1-5\">\n",
       "<path style=\"stroke:none;\" d=\"M 6.273438 -8.25 L 6.273438 -7.328125 C 6.003906 -7.066406 5.648438 -6.613281 5.199219 -5.964844 C 4.753906 -5.316406 4.359375 -4.617188 4.015625 -3.867188 C 3.675781 -3.136719 3.414062 -2.46875 3.242188 -1.867188 C 3.128906 -1.480469 2.980469 -0.859375 2.800781 0 L 1.632812 0 C 1.898438 -1.601562 2.484375 -3.195312 3.390625 -4.78125 C 3.925781 -5.710938 4.492188 -6.515625 5.078125 -7.1875 L 0.4375 -7.1875 L 0.4375 -8.25 Z M 6.273438 -8.25 \"/>\n",
       "</symbol>\n",
       "</g>\n",
       "</defs>\n",
       "<g id=\"surface367\">\n",
       "<rect x=\"0\" y=\"0\" width=\"600\" height=\"600\" style=\"fill:rgb(100%,100%,100%);fill-opacity:1;stroke:none;\"/>\n",
       "<path style=\"fill:none;stroke-width:5;stroke-linecap:butt;stroke-linejoin:miter;stroke:rgb(74.509804%,74.509804%,74.509804%);stroke-opacity:1;stroke-miterlimit:10;\" d=\"M 580 463.816406 L 459.480469 20 \"/>\n",
       "<path style=\"fill:none;stroke-width:1;stroke-linecap:butt;stroke-linejoin:miter;stroke:rgb(0%,0%,0%);stroke-opacity:1;stroke-miterlimit:10;\" d=\"M 580 463.816406 L 129.847656 580 \"/>\n",
       "<path style=\"fill:none;stroke-width:5;stroke-linecap:butt;stroke-linejoin:miter;stroke:rgb(74.509804%,74.509804%,74.509804%);stroke-opacity:1;stroke-miterlimit:10;\" d=\"M 580 463.816406 L 20 158.03125 \"/>\n",
       "<path style=\"fill:none;stroke-width:5;stroke-linecap:butt;stroke-linejoin:miter;stroke:rgb(74.509804%,74.509804%,74.509804%);stroke-opacity:1;stroke-miterlimit:10;\" d=\"M 459.480469 20 L 129.847656 580 \"/>\n",
       "<path style=\"fill:none;stroke-width:1;stroke-linecap:butt;stroke-linejoin:miter;stroke:rgb(0%,0%,0%);stroke-opacity:1;stroke-miterlimit:10;\" d=\"M 459.480469 20 L 20 158.03125 \"/>\n",
       "<path style=\"fill:none;stroke-width:5;stroke-linecap:butt;stroke-linejoin:miter;stroke:rgb(74.509804%,74.509804%,74.509804%);stroke-opacity:1;stroke-miterlimit:10;\" d=\"M 129.847656 580 L 20 158.03125 \"/>\n",
       "<path style=\"fill-rule:nonzero;fill:rgb(100%,100%,100%);fill-opacity:1;stroke-width:1;stroke-linecap:butt;stroke-linejoin:miter;stroke:rgb(0%,0%,0%);stroke-opacity:1;stroke-miterlimit:10;\" d=\"M 590 463.816406 C 590 469.339844 585.523438 473.816406 580 473.816406 C 574.476562 473.816406 570 469.339844 570 463.816406 C 570 458.292969 574.476562 453.816406 580 453.816406 C 585.523438 453.816406 590 458.292969 590 463.816406 \"/>\n",
       "<path style=\"fill-rule:nonzero;fill:rgb(100%,100%,100%);fill-opacity:1;stroke-width:1;stroke-linecap:butt;stroke-linejoin:miter;stroke:rgb(0%,0%,0%);stroke-opacity:1;stroke-miterlimit:10;\" d=\"M 469.480469 20 C 469.480469 25.523438 465.003906 30 459.480469 30 C 453.960938 30 449.480469 25.523438 449.480469 20 C 449.480469 14.476562 453.960938 10 459.480469 10 C 465.003906 10 469.480469 14.476562 469.480469 20 \"/>\n",
       "<path style=\"fill-rule:nonzero;fill:rgb(100%,100%,100%);fill-opacity:1;stroke-width:1;stroke-linecap:butt;stroke-linejoin:miter;stroke:rgb(0%,0%,0%);stroke-opacity:1;stroke-miterlimit:10;\" d=\"M 139.847656 580 C 139.847656 585.523438 135.371094 590 129.847656 590 C 124.324219 590 119.847656 585.523438 119.847656 580 C 119.847656 574.476562 124.324219 570 129.847656 570 C 135.371094 570 139.847656 574.476562 139.847656 580 \"/>\n",
       "<path style=\"fill-rule:nonzero;fill:rgb(100%,100%,100%);fill-opacity:1;stroke-width:1;stroke-linecap:butt;stroke-linejoin:miter;stroke:rgb(0%,0%,0%);stroke-opacity:1;stroke-miterlimit:10;\" d=\"M 30 158.03125 C 30 163.554688 25.523438 168.03125 20 168.03125 C 14.476562 168.03125 10 163.554688 10 158.03125 C 10 152.511719 14.476562 148.03125 20 148.03125 C 25.523438 148.03125 30 152.511719 30 158.03125 \"/>\n",
       "<g style=\"fill:rgb(0%,0%,0%);fill-opacity:1;\">\n",
       "  <use xlink:href=\"#glyph0-1\" x=\"576.1875\" y=\"470.320312\"/>\n",
       "</g>\n",
       "<g style=\"fill:rgb(0%,0%,0%);fill-opacity:1;\">\n",
       "  <use xlink:href=\"#glyph0-2\" x=\"456.335938\" y=\"26.484375\"/>\n",
       "</g>\n",
       "<g style=\"fill:rgb(0%,0%,0%);fill-opacity:1;\">\n",
       "  <use xlink:href=\"#glyph0-3\" x=\"126.027344\" y=\"586.523438\"/>\n",
       "</g>\n",
       "<g style=\"fill:rgb(0%,0%,0%);fill-opacity:1;\">\n",
       "  <use xlink:href=\"#glyph0-4\" x=\"16.242188\" y=\"164.542969\"/>\n",
       "</g>\n",
       "<g style=\"fill:rgb(0%,0%,0%);fill-opacity:1;\">\n",
       "  <use xlink:href=\"#glyph1-1\" x=\"503.570312\" y=\"247.484375\"/>\n",
       "  <use xlink:href=\"#glyph1-2\" x=\"510.244141\" y=\"247.484375\"/>\n",
       "  <use xlink:href=\"#glyph1-3\" x=\"513.578125\" y=\"247.484375\"/>\n",
       "</g>\n",
       "<g style=\"fill:rgb(0%,0%,0%);fill-opacity:1;\">\n",
       "  <use xlink:href=\"#glyph1-4\" x=\"354.550781\" y=\"533.90625\"/>\n",
       "  <use xlink:href=\"#glyph1-3\" x=\"361.224609\" y=\"533.90625\"/>\n",
       "  <use xlink:href=\"#glyph1-2\" x=\"367.898438\" y=\"533.90625\"/>\n",
       "  <use xlink:href=\"#glyph1-3\" x=\"371.232422\" y=\"533.90625\"/>\n",
       "</g>\n",
       "<g style=\"fill:rgb(0%,0%,0%);fill-opacity:1;\">\n",
       "  <use xlink:href=\"#glyph1-1\" x=\"283.828125\" y=\"322.925781\"/>\n",
       "  <use xlink:href=\"#glyph1-2\" x=\"290.501953\" y=\"322.925781\"/>\n",
       "  <use xlink:href=\"#glyph1-3\" x=\"293.835938\" y=\"322.925781\"/>\n",
       "</g>\n",
       "<g style=\"fill:rgb(0%,0%,0%);fill-opacity:1;\">\n",
       "  <use xlink:href=\"#glyph1-1\" x=\"294.277344\" y=\"305.574219\"/>\n",
       "  <use xlink:href=\"#glyph1-2\" x=\"300.951172\" y=\"305.574219\"/>\n",
       "  <use xlink:href=\"#glyph1-3\" x=\"304.285156\" y=\"305.574219\"/>\n",
       "</g>\n",
       "<g style=\"fill:rgb(0%,0%,0%);fill-opacity:1;\">\n",
       "  <use xlink:href=\"#glyph1-4\" x=\"239.367188\" y=\"101.015625\"/>\n",
       "  <use xlink:href=\"#glyph1-2\" x=\"246.041016\" y=\"101.015625\"/>\n",
       "  <use xlink:href=\"#glyph1-3\" x=\"249.375\" y=\"101.015625\"/>\n",
       "</g>\n",
       "<g style=\"fill:rgb(0%,0%,0%);fill-opacity:1;\">\n",
       "  <use xlink:href=\"#glyph1-5\" x=\"58.753906\" y=\"374.589844\"/>\n",
       "  <use xlink:href=\"#glyph1-2\" x=\"65.427734\" y=\"374.589844\"/>\n",
       "  <use xlink:href=\"#glyph1-3\" x=\"68.761719\" y=\"374.589844\"/>\n",
       "</g>\n",
       "</g>\n",
       "</svg>\n"
      ],
      "text/plain": [
       "<igraph.drawing.Plot at 0x1219979d0>"
      ]
     },
     "execution_count": 145,
     "metadata": {},
     "output_type": "execute_result"
    }
   ],
   "source": [
    "g.es[\"color\"] = \"black\"\n",
    "g.es[\"width\"] = 1\n",
    "g.vs[\"color\"] = \"white\"\n",
    "path = list(p)\n",
    "for i in range(len(path)):\n",
    "    src = i\n",
    "    dst = i + 1\n",
    "    if dst == (len(path)):\n",
    "        dst = 0\n",
    "    edge = (path[src], path[dst]) if path[src] < path[dst] else (path[dst], path[src])\n",
    "    index = g.get_edgelist().index(edge)\n",
    "    g.es[index][\"color\"] = \"gray\"\n",
    "    g.es[index][\"width\"] = 5\n",
    "\n",
    "igraph.plot(g, labels = True, edge_label=g.es[\"weight\"])"
   ]
  },
  {
   "cell_type": "code",
   "execution_count": null,
   "metadata": {
    "collapsed": true
   },
   "outputs": [],
   "source": []
  },
  {
   "cell_type": "code",
   "execution_count": null,
   "metadata": {
    "collapsed": true
   },
   "outputs": [],
   "source": []
  }
 ],
 "metadata": {
  "kernelspec": {
   "display_name": "Python 2",
   "language": "python",
   "name": "python2"
  },
  "language_info": {
   "codemirror_mode": {
    "name": "ipython",
    "version": 2
   },
   "file_extension": ".py",
   "mimetype": "text/x-python",
   "name": "python",
   "nbconvert_exporter": "python",
   "pygments_lexer": "ipython2",
   "version": "2.7.11"
  }
 },
 "nbformat": 4,
 "nbformat_minor": 0
}
